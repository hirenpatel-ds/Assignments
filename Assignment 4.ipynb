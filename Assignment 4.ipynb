{
 "cells": [
  {
   "cell_type": "markdown",
   "metadata": {},
   "source": [
    "# Assignment 4\n",
    "## Given By: Ineuron\n",
    "## Author: Hiren Patel"
   ]
  },
  {
   "cell_type": "markdown",
   "metadata": {},
   "source": [
    "### Q - 1. Write a Python Program to Find the Factorial of a Number?"
   ]
  },
  {
   "cell_type": "markdown",
   "metadata": {},
   "source": [
    "#### Ans: Factorial number should not be negative. factorial of number means result of multiplication to all factors of given number. for example: 3 = 3,2,1:  factors of 3 is 3 * 2 * 1 = 6 \n",
    "#### here in above expression 3 * 2 * 1 is factors of 3 and factorial value is 6\n",
    "#### however, we must note that factor value of 0 is 1\n",
    "#### let's convert this into a python program"
   ]
  },
  {
   "cell_type": "code",
   "execution_count": 8,
   "metadata": {},
   "outputs": [
    {
     "name": "stdout",
     "output_type": "stream",
     "text": [
      "Enter Your Number: 10\n",
      "Your factorial number is 10 and factorial value is 3628800 \n"
     ]
    }
   ],
   "source": [
    "## take a value from user:\n",
    "n = int(input('Enter Your Number: '))\n",
    "\n",
    "if n < 0:                                                                           #1\n",
    "    print('Please Enter number greater than 1 ')\n",
    "elif n == 0:                                                                        #2                    \n",
    "    print('The factorial value of 0 is 1')\n",
    "else:\n",
    "    temp = 1                                                                        #3\n",
    "    for i in range(1,n+1):                                                          #4\n",
    "        temp = temp * i                                                             #5\n",
    "    print('Your factorial number is {} and factorial value is {} '.format(n,temp))  #6\n",
    "    \n",
    "# 1 Check if number is negative or not:\n",
    "# 2 If the given integer is 0 then factorial value is 1\n",
    "# 3 Temporary variable that holds value\n",
    "# 4 Generating factors value by using range function. i use n+1 because range excludes the upper bound\n",
    "# 5 multiplication of values with temporary variable\n",
    "# 6 printing final output\n",
    "        "
   ]
  },
  {
   "cell_type": "markdown",
   "metadata": {},
   "source": [
    "#### Using inbuilt method facorial in python"
   ]
  },
  {
   "cell_type": "code",
   "execution_count": 14,
   "metadata": {},
   "outputs": [
    {
     "name": "stdout",
     "output_type": "stream",
     "text": [
      "enter your number: 10\n",
      "Your factorial value is: 3628800\n"
     ]
    }
   ],
   "source": [
    "## however, python has huge amount of libraries and that will make our work easier.\n",
    "## we can use math library to perform factorial\n",
    "## for that we need to import math library\n",
    "\n",
    "import math as m                                      #1\n",
    "\n",
    "n = int(input('enter your number: '))\n",
    "fact = m.factorial(n)                                 #2\n",
    "print('Your factorial value is: {}'.format(fact))     #3\n",
    "\n",
    "#1 importing inbuilt library of python called math\n",
    "## math library contains many methods such as sin,cos, fibonaci, factorial and many more\n",
    "\n",
    "#2 we are using factorial among them\n",
    "## here m is instance of math library and factorial is function that we are calling. n is argument\n",
    "\n",
    "#3 printing our result using format \n"
   ]
  },
  {
   "cell_type": "markdown",
   "metadata": {},
   "source": [
    "### Q - 2: Write a Python Program to Display the multiplication Table?"
   ]
  },
  {
   "cell_type": "markdown",
   "metadata": {},
   "source": [
    "#### Ans:"
   ]
  },
  {
   "cell_type": "code",
   "execution_count": 16,
   "metadata": {},
   "outputs": [
    {
     "name": "stdout",
     "output_type": "stream",
     "text": [
      "Enter your number to get multiplication table 5\n",
      "5 * 1 = 5\n",
      "5 * 2 = 10\n",
      "5 * 3 = 15\n",
      "5 * 4 = 20\n",
      "5 * 5 = 25\n",
      "5 * 6 = 30\n",
      "5 * 7 = 35\n",
      "5 * 8 = 40\n",
      "5 * 9 = 45\n",
      "5 * 10 = 50\n"
     ]
    }
   ],
   "source": [
    "def table(n):\n",
    "    '''This Table function creates multiplication table of given number\n",
    "       takes one integer argument\n",
    "       for example 5\n",
    "       5 * 1 = 5\n",
    "       5 * 2 = 10\n",
    "       5 * 3 = 15\n",
    "    '''\n",
    "    \n",
    "    if n < 0:\n",
    "        print('Number should be an integer value ')\n",
    "    elif n == 0:\n",
    "        print('Enter Positive integer ')\n",
    "    else: \n",
    "        for i in range(1,11):\n",
    "            r = n * i\n",
    "            print('{} * {} = {}'.format(n,i,r))\n",
    "\n",
    "num = int(input('Enter your number to get multiplication table '))\n",
    "table(num)"
   ]
  },
  {
   "cell_type": "code",
   "execution_count": 17,
   "metadata": {},
   "outputs": [
    {
     "name": "stdout",
     "output_type": "stream",
     "text": [
      "Help on function table in module __main__:\n",
      "\n",
      "table(n)\n",
      "    This Table function creates multiplication table of given number\n",
      "    takes one integer argument\n",
      "    for example 5\n",
      "    5 * 1 = 5\n",
      "    5 * 2 = 10\n",
      "    5 * 3 = 15\n",
      "\n"
     ]
    }
   ],
   "source": [
    "help(table)"
   ]
  },
  {
   "cell_type": "markdown",
   "metadata": {},
   "source": [
    "#### Q - 3 Write a Python Program to Print the Fibonacci sequence?"
   ]
  },
  {
   "cell_type": "code",
   "execution_count": 61,
   "metadata": {},
   "outputs": [
    {
     "name": "stdout",
     "output_type": "stream",
     "text": [
      "Enter your number: 10\n",
      "[0, 1, 1, 2, 3, 5, 8, 13, 21, 34]\n"
     ]
    }
   ],
   "source": [
    "def fib(n1):\n",
    "    a = []\n",
    "    num1 = 0\n",
    "    num2 = 1 \n",
    "    if n1 < 0:\n",
    "        print('Enter Positive number')\n",
    "    if n1 == 1:\n",
    "        a.append(num1)\n",
    "    else:\n",
    "        a.append(num1)\n",
    "        a.append(num2)\n",
    "        for i in range(2,n1):\n",
    "            c = num1+num2\n",
    "            num1 = num2       ## Swapping numbers\n",
    "            num2 = c          ## swapping numbers\n",
    "            a.append(c)\n",
    "        print(a)\n",
    "f = int(input('Enter your number: '))\n",
    "fib(f)"
   ]
  },
  {
   "cell_type": "markdown",
   "metadata": {},
   "source": [
    "### Q - 4 Write a Python Program to Check Armstrong Number?"
   ]
  },
  {
   "cell_type": "markdown",
   "metadata": {},
   "source": [
    "#### Ans: 4"
   ]
  },
  {
   "cell_type": "code",
   "execution_count": 62,
   "metadata": {},
   "outputs": [],
   "source": [
    "## before we dive into program let's know what is Armstrong number:\n",
    "## suppose we have number like: 255 (total digits = 3)\n",
    "## so, if the power of 3 (because of 3 digits) is equal to result of 255 then number is called armstrong number\n",
    "## for example: if 255 = 2^3 + 5^3 + 5^3 is same then it will be armstrong number"
   ]
  },
  {
   "cell_type": "code",
   "execution_count": null,
   "metadata": {},
   "outputs": [],
   "source": []
  },
  {
   "cell_type": "code",
   "execution_count": 23,
   "metadata": {},
   "outputs": [
    {
     "name": "stdout",
     "output_type": "stream",
     "text": [
      "Enter Your number: 153\n",
      "----------------------------------------------------------------------------------------------------\n",
      "Your number 153 is armstrong \n"
     ]
    }
   ],
   "source": [
    "a = int(input(\"Enter Your number: \"))\n",
    "copy_a = a\n",
    "temp = 0\n",
    "try:\n",
    "    while (a>0):\n",
    "        #print(a)\n",
    "        #print(temp)\n",
    "        temp = temp + (a%10)*(a%10)*(a%10)\n",
    "        a = a//10\n",
    "    print('--'*50)\n",
    "\n",
    "    if copy_a == temp:\n",
    "        print('Your number {} is armstrong '.format(copy_a))\n",
    "    else:\n",
    "        print('Your number {} is not armstrong'.format(copy_a))\n",
    "except exception as e:\n",
    "    print(\"error code: \", e)\n",
    "    \n"
   ]
  },
  {
   "cell_type": "markdown",
   "metadata": {},
   "source": [
    "### Que - 5 Write a Python Program to Find Armstrong Number in an Interval?"
   ]
  },
  {
   "cell_type": "markdown",
   "metadata": {},
   "source": [
    "### Ans - 5"
   ]
  },
  {
   "cell_type": "code",
   "execution_count": 18,
   "metadata": {},
   "outputs": [],
   "source": [
    "## finding Armstrong numbers between intervals"
   ]
  },
  {
   "cell_type": "code",
   "execution_count": 28,
   "metadata": {},
   "outputs": [
    {
     "name": "stdout",
     "output_type": "stream",
     "text": [
      "Enter lower bound of the range: 150\n",
      "Enter lower bound of the range: 155\n",
      "----------------------------------------------------------------------------------------------------\n",
      "Your number 150 is not armstrong\n",
      "----------------------------------------------------------------------------------------------------\n",
      "Your number 151 is not armstrong\n",
      "----------------------------------------------------------------------------------------------------\n",
      "Your number 152 is not armstrong\n",
      "----------------------------------------------------------------------------------------------------\n",
      "Your number 153 is armstrong \n",
      "----------------------------------------------------------------------------------------------------\n",
      "Your number 154 is not armstrong\n",
      "----------------------------------------------------------------------------------------------------\n",
      "Your number 155 is not armstrong\n"
     ]
    }
   ],
   "source": [
    "n1 = int(input('Enter lower bound of the range: '))\n",
    "n2 = int(input('Enter lower bound of the range: '))\n",
    "for a in range(n1,n2+1):\n",
    "    #print(a)\n",
    "    #a = int(input(\"Enter Your number: \"))\n",
    "    copy_a = a\n",
    "    temp = 0\n",
    "    try:\n",
    "        while (a>0):\n",
    "            #print(a)\n",
    "            #print(temp)\n",
    "            temp = temp + (a%10)*(a%10)*(a%10)\n",
    "            a = a//10\n",
    "        print('--'*50)\n",
    "\n",
    "        if copy_a == temp:\n",
    "            print('Your number {} is armstrong '.format(copy_a))\n",
    "        else:\n",
    "             print('Your number {} is not armstrong'.format(copy_a))\n",
    "    except exception as e:\n",
    "        print(\"error code: \", e)\n",
    "    "
   ]
  },
  {
   "cell_type": "markdown",
   "metadata": {},
   "source": [
    "### Q - 6 Write a Python Program to Find the Sum of Natural Numbers?"
   ]
  },
  {
   "cell_type": "code",
   "execution_count": 33,
   "metadata": {},
   "outputs": [
    {
     "name": "stdout",
     "output_type": "stream",
     "text": [
      "Enter your number: 10\n",
      "55\n"
     ]
    }
   ],
   "source": [
    "try:\n",
    "    def sum_nat(n):\n",
    "        result = 0\n",
    "        initial = 1\n",
    "\n",
    "        while (initial<=n):\n",
    "            result = result + initial\n",
    "            initial = initial +1\n",
    "        print(result)\n",
    "except Exception as e:\n",
    "    print('Error Message: ',e)\n",
    "\n",
    "n = int(input('Enter your number: '))\n",
    "sum_nat(n)"
   ]
  },
  {
   "cell_type": "code",
   "execution_count": null,
   "metadata": {},
   "outputs": [],
   "source": []
  }
 ],
 "metadata": {
  "kernelspec": {
   "display_name": "Python 3",
   "language": "python",
   "name": "python3"
  },
  "language_info": {
   "codemirror_mode": {
    "name": "ipython",
    "version": 3
   },
   "file_extension": ".py",
   "mimetype": "text/x-python",
   "name": "python",
   "nbconvert_exporter": "python",
   "pygments_lexer": "ipython3",
   "version": "3.8.5"
  }
 },
 "nbformat": 4,
 "nbformat_minor": 4
}
