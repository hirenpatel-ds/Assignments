{
  "nbformat": 4,
  "nbformat_minor": 0,
  "metadata": {
    "kernelspec": {
      "display_name": "Python 3",
      "language": "python",
      "name": "python3"
    },
    "language_info": {
      "codemirror_mode": {
        "name": "ipython",
        "version": 3
      },
      "file_extension": ".py",
      "mimetype": "text/x-python",
      "name": "python",
      "nbconvert_exporter": "python",
      "pygments_lexer": "ipython3",
      "version": "3.7.4"
    },
    "colab": {
      "provenance": [],
      "collapsed_sections": [],
      "include_colab_link": true
    }
  },
  "cells": [
    {
      "cell_type": "markdown",
      "metadata": {
        "id": "view-in-github",
        "colab_type": "text"
      },
      "source": [
        "<a href=\"https://colab.research.google.com/github/hirenpatel-ds/Assignments/blob/main/Copy_of_Assignment_Tuples%2C_Sets_and_Dictionaries.ipynb\" target=\"_parent\"><img src=\"https://colab.research.google.com/assets/colab-badge.svg\" alt=\"Open In Colab\"/></a>"
      ]
    },
    {
      "cell_type": "markdown",
      "metadata": {
        "id": "8WbUJEVzs8Bx"
      },
      "source": [
        "## <u>While doing this assignment only use those concepts which have been taught till now</u>"
      ]
    },
    {
      "cell_type": "markdown",
      "metadata": {
        "id": "KjPWYK0Rs8By"
      },
      "source": [
        "## <u>Problem 1</u>\n",
        "\n",
        "### Another measure of average\n",
        "\n",
        "* Mode is defined as the value that appears most often in a set of data values. Mode corresponds to the most frequent value.\n",
        "* You are given a list of numbers and you need to calculate the mode of this list"
      ]
    },
    {
      "cell_type": "code",
      "metadata": {
        "id": "34TbaGurs8Bz"
      },
      "source": [
        "# A list containing average daily temperature over 10 days\n",
        "temperatures = [34, 40, 29, 33, 42, 40, 39, 34, 34,33 ]"
      ],
      "execution_count": null,
      "outputs": []
    },
    {
      "cell_type": "code",
      "metadata": {
        "id": "N1Yhpkiws8B3"
      },
      "source": [
        "# Step 1 : Find the unique set of values. Store this in a list\n",
        "unique_temperatures = list(set(temperatures))"
      ],
      "execution_count": null,
      "outputs": []
    },
    {
      "cell_type": "code",
      "metadata": {
        "id": "KpMdlB5Fs8B8",
        "colab": {
          "base_uri": "https://localhost:8080/"
        },
        "outputId": "96af719e-dd31-49c7-e0ec-7c4c75b7b256"
      },
      "source": [
        "# Print the unique temperature list\n",
        "unique_temperatures"
      ],
      "execution_count": null,
      "outputs": [
        {
          "output_type": "execute_result",
          "data": {
            "text/plain": [
              "[33, 34, 39, 40, 42, 29]"
            ]
          },
          "metadata": {},
          "execution_count": 51
        }
      ]
    },
    {
      "cell_type": "code",
      "metadata": {
        "id": "J7CyJi_Ls8B_"
      },
      "source": [
        "# Step 2 : Create an empty dictionary which will contain the unique temperatures as keys and their counts in the original temperatures list as values\n",
        "temp_dict = {}\n",
        "\n",
        "# Set the values for each key separately\n",
        "\n",
        "#...............................Solution...................\n",
        "## for this problem i've slicing the Unique_temperature list by index one by one\n",
        "## secondly, we need count of unique values resides in Temperatures. so, by count method we can get the count of specific element\n",
        "## Finally, we have count and we have keys. now, we need to assign all counts as a value of sliced unique index \n",
        "\n",
        "# First key\n",
        "temp_dict[unique_temperatures[0]] = temperatures.count(unique_temperatures[0])\n",
        "\n",
        "\n",
        "# Second key\n",
        "#temp_dict[33] = temperatures.count(33)\n",
        "temp_dict[unique_temperatures[1]] = temperatures.count(unique_temperatures[1])\n",
        "\n",
        "# Third key\n",
        "temp_dict[unique_temperatures[2]] = temperatures.count(unique_temperatures[2])\n",
        "\n",
        "\n",
        "# Fourth key\n",
        "temp_dict[unique_temperatures[3]] = temperatures.count(unique_temperatures[3])\n",
        "\n",
        "\n",
        "# Fifth key\n",
        "\n",
        "temp_dict[unique_temperatures[4]] = temperatures.count(unique_temperatures[4])\n",
        "\n",
        "\n",
        "# Sixth key\n",
        "temp_dict[unique_temperatures[5]] = temperatures.count(unique_temperatures[5])\n",
        "\n"
      ],
      "execution_count": null,
      "outputs": []
    },
    {
      "cell_type": "code",
      "source": [
        "temp_dict"
      ],
      "metadata": {
        "colab": {
          "base_uri": "https://localhost:8080/"
        },
        "id": "8c2U1BsU2dtS",
        "outputId": "276dfbc0-0807-4c1c-986b-16d587fff561"
      },
      "execution_count": null,
      "outputs": [
        {
          "output_type": "execute_result",
          "data": {
            "text/plain": [
              "{33: 2, 34: 3, 39: 1, 40: 2, 42: 1, 29: 1}"
            ]
          },
          "metadata": {},
          "execution_count": 53
        }
      ]
    },
    {
      "cell_type": "code",
      "metadata": {
        "id": "4-ZxbmMxtWfQ",
        "colab": {
          "base_uri": "https://localhost:8080/"
        },
        "outputId": "5b57c5db-e9f8-42ae-bbd7-f234c6115fb7"
      },
      "source": [
        "# Step 3: Store the dictionary values in a list\n",
        "temp_dict_frequencies = list(temp_dict.values())\n",
        "\n",
        "# Print the list of dictionary values\n",
        "print(temp_dict_frequencies)\n",
        "# Find the index of the most frequent temperature value\n",
        "most_frequent_temp_index = temp_dict_frequencies.index(max(set(temp_dict_frequencies), key = temp_dict_frequencies.count))\n",
        "\n",
        "# Print the index\n",
        "most_frequent_temp_index "
      ],
      "execution_count": null,
      "outputs": [
        {
          "output_type": "stream",
          "name": "stdout",
          "text": [
            "[2, 3, 1, 2, 1, 1]\n"
          ]
        },
        {
          "output_type": "execute_result",
          "data": {
            "text/plain": [
              "2"
            ]
          },
          "metadata": {},
          "execution_count": 54
        }
      ]
    },
    {
      "cell_type": "code",
      "metadata": {
        "id": "riu9mZhcwBY6",
        "colab": {
          "base_uri": "https://localhost:8080/"
        },
        "outputId": "d9277379-319c-4aaf-954e-6646ae1e3776"
      },
      "source": [
        "# Step 4 : Create the list of dictionary keys\n",
        "temp_dict_keys = list(temp_dict.keys())\n",
        "#temp_dict_keys = list(temperatures.keys())\n",
        "# Print the list of dictionary keys\n",
        "print(temp_dict_keys)\n",
        "\n",
        "\n",
        "\n",
        "# Calculate the mode temperature\n",
        "mode_temp = max(set(temperatures), key = temperatures.count) \n",
        "mode_temp"
      ],
      "execution_count": null,
      "outputs": [
        {
          "output_type": "stream",
          "name": "stdout",
          "text": [
            "[33, 34, 39, 40, 42, 29]\n"
          ]
        },
        {
          "output_type": "execute_result",
          "data": {
            "text/plain": [
              "34"
            ]
          },
          "metadata": {},
          "execution_count": 55
        }
      ]
    },
    {
      "cell_type": "markdown",
      "metadata": {
        "id": "5qd8g8UUs8CM"
      },
      "source": [
        "## <u>Problem 2 </u>\n",
        "\n",
        "### Challenging the immutability of tuples\n",
        "\n",
        "You are given a list of tuples. You need to replace the last element of the last tuple"
      ]
    },
    {
      "cell_type": "code",
      "metadata": {
        "id": "FBJy9Sq_s8CN"
      },
      "source": [
        "# Input list of tuples\n",
        "\n",
        "list_of_tuples = [(10,20,30),(30,40,50),(50,60,70)]\n",
        "\n",
        "\n",
        "# Expected output : Replace the last element 70 with 100\n",
        "l = list(list_of_tuples[-1]) \n",
        "\n",
        "\n",
        "# output_list = [(10,20,30),(30,40,50),(50,60,100)]\n"
      ],
      "execution_count": null,
      "outputs": []
    },
    {
      "cell_type": "code",
      "metadata": {
        "id": "UNtYax1as8CR",
        "colab": {
          "base_uri": "https://localhost:8080/"
        },
        "outputId": "202dd8d9-afa2-4864-a7b0-69b35bbc29b0"
      },
      "source": [
        "# Your code here \n",
        "\n",
        "l[-1] = 100\n",
        "list_of_tuples.pop(-1) \n",
        "list_of_tuples.append(tuple(l)) \n",
        "\n",
        "\n",
        "\n",
        "# Print the output list\n",
        "print(list_of_tuples)"
      ],
      "execution_count": null,
      "outputs": [
        {
          "output_type": "stream",
          "name": "stdout",
          "text": [
            "[(10, 20, 30), (30, 40, 50), (50, 60, 100)]\n"
          ]
        }
      ]
    },
    {
      "cell_type": "markdown",
      "metadata": {
        "id": "ejRCi-vTs8CU"
      },
      "source": [
        "## <u> Problem 3 </u>\n",
        "\n",
        "Natural Language Processing or NLP is one of the most promising fields in Machine Learning. Most of the times in NLP we deal with the textual data (a bunch of strings). Sometimes when we are processing the text, it is a common practice to get rid of some set of stop words from our original text. By default stop words are very common words used in English language such as and, or, punctuations etc.\n",
        "\n",
        "In this exercise, you are provided with a default set of stop words and you need to add some extra set of custom words."
      ]
    },
    {
      "cell_type": "code",
      "metadata": {
        "id": "C5olNuDGs8CU",
        "colab": {
          "base_uri": "https://localhost:8080/"
        },
        "outputId": "439f3afb-c133-4491-d532-4e295048a652"
      },
      "source": [
        "# A sample sentence \n",
        "\n",
        "sentence = 'Hello, good morning folks! Today we will announce the half yearly performance results of the company. Due to the ongoing COVID-19 pandemic, our profits have declined by 60% as compared to the last half yearly results'\n",
        "\n",
        "# Print your sentence\n",
        "print(sentence)\n"
      ],
      "execution_count": null,
      "outputs": [
        {
          "output_type": "stream",
          "name": "stdout",
          "text": [
            "Hello, good morning folks! Today we will announce the half yearly performance results of the company. Due to the ongoing COVID-19 pandemic, our profits have declined by 60% as compared to the last half yearly results\n"
          ]
        }
      ]
    },
    {
      "cell_type": "code",
      "metadata": {
        "id": "B4afm8gCs8CY"
      },
      "source": [
        "# Default set of stop words \n",
        "stop_words = {\"i\", \"me\", \"my\", \"myself\", \"we\", \"our\", \"ours\", \"ourselves\", \"you\", \"your\", \"yours\", \"yourself\", \n",
        "              \"yourselves\", \"he\", \"him\", \"his\", \"himself\", \"she\", \"her\", \"hers\", \"herself\", \"it\", \"its\", \"itself\",\n",
        "              \"they\", \"them\", \"their\", \"theirs\", \"themselves\", \"what\", \"which\", \"who\", \"whom\", \"this\", \"that\",\n",
        "              \"these\", \"those\", \"am\", \"is\", \"are\", \"was\", \"were\", \"be\", \"been\", \"being\", \"have\", \"has\", \"had\",\n",
        "              \"having\", \"do\", \"does\", \"did\", \"doing\", \"a\", \"an\", \"the\", \"and\", \"but\", \"if\", \"or\", \"because\",\n",
        "              \"as\", \"until\", \"while\", \"of\", \"at\", \"by\", \"for\", \"with\", \"about\", \"against\", \"between\", \"into\",\n",
        "              \"through\", \"during\", \"before\", \"after\", \"above\", \"below\", \"to\", \"from\", \"up\", \"down\", \"in\", \"out\", \n",
        "              \"on\", \"off\", \"over\", \"under\", \"again\", \"further\", \"then\", \"once\", \"here\", \"there\", \"when\", \"where\",\n",
        "              \"why\", \"how\", \"all\", \"any\", \"both\", \"each\", \"few\", \"more\", \"most\", \"other\", \"some\", \"such\", \"no\",\n",
        "              \"nor\", \"not\", \"only\", \"own\", \"same\", \"so\", \"than\", \"too\", \"very\", \"s\", \"t\", \"can\", \"will\", \"just\",\n",
        "              \"don\", \"should\", \"now\"}\n"
      ],
      "execution_count": null,
      "outputs": []
    },
    {
      "cell_type": "code",
      "metadata": {
        "id": "evgHHnRks8Cc",
        "colab": {
          "base_uri": "https://localhost:8080/"
        },
        "outputId": "cd505605-f930-4abc-a32e-2066660d0a8d"
      },
      "source": [
        "# Update the set of stop words by adding the custom stop words\n",
        "custom_stop_words = [\"hello\",\"good\",\"morning\",\"half\",\"yearly\"]\n",
        "custom_stop_words = set(custom_stop_words)\n",
        "# Your code here\n",
        "#stop_words.\n",
        "stop_words = custom_stop_words.union(stop_words)\n",
        "# Print the updated stop words\n",
        "print(stop_words)\n",
        "\n"
      ],
      "execution_count": null,
      "outputs": [
        {
          "output_type": "stream",
          "name": "stdout",
          "text": [
            "{'all', 'about', 'we', 'being', 'over', 'no', 'your', 'those', 'doing', 'yourselves', 'for', 'were', 'have', 'of', 'above', 'just', 'been', 'hers', 'him', 'them', 'not', 'because', 'myself', 'or', 'out', 'morning', 'theirs', 'where', 'ourselves', 'having', 'good', 'most', 'their', 'if', 'up', 'her', 'after', 'further', 'this', 'as', 'how', 'nor', 'does', 'in', 'any', 'under', 'during', 'some', 'between', 'from', 'me', 'to', 'when', 'be', 'will', 'am', 'has', 'than', 'these', 'himself', 'she', 'against', 'ours', 'into', 'itself', 'that', 'with', 'again', 'there', 'then', 'other', 'down', 'it', 'our', 'yourself', 'his', 'you', 'my', 'such', 'each', 'is', 'an', 'half', 'why', 'same', 'did', 'do', 'few', 'can', 'its', 'had', 'what', 'hello', 'while', 'now', 'should', 'too', 'he', 'and', 'are', 'off', 'until', 'themselves', 'the', 'once', 'only', 's', 'don', 'through', 'i', 'they', 'was', 'so', 'by', 'yours', 'yearly', 'herself', 'own', 'both', 'before', 'whom', 'very', 't', 'who', 'a', 'but', 'more', 'at', 'which', 'below', 'here', 'on'}\n"
          ]
        }
      ]
    },
    {
      "cell_type": "code",
      "metadata": {
        "id": "1QbZrotrtIE3",
        "colab": {
          "base_uri": "https://localhost:8080/"
        },
        "outputId": "3c6568e7-fc8b-4fa9-a980-9ac33aabd2af"
      },
      "source": [
        "# Do the same task another way. Keep in mind to use the original set of stop_words for this piece of code\n",
        "stop_words = list(stop_words)\n",
        "stop_words.append(custom_stop_words)\n",
        "\n",
        "# Print the updated stop words\n",
        "print(stop_words)\n"
      ],
      "execution_count": null,
      "outputs": [
        {
          "output_type": "stream",
          "name": "stdout",
          "text": [
            "['all', 'about', 'we', 'being', 'over', 'no', 'your', 'those', 'doing', 'yourselves', 'for', 'were', 'have', 'of', 'above', 'just', 'been', 'hers', 'him', 'them', 'not', 'because', 'myself', 'or', 'out', 'morning', 'theirs', 'where', 'ourselves', 'having', 'good', 'most', 'their', 'if', 'up', 'her', 'after', 'further', 'this', 'as', 'how', 'nor', 'does', 'in', 'any', 'under', 'during', 'some', 'between', 'from', 'me', 'to', 'when', 'be', 'will', 'am', 'has', 'than', 'these', 'himself', 'she', 'against', 'ours', 'into', 'itself', 'that', 'with', 'again', 'there', 'then', 'other', 'down', 'it', 'our', 'yourself', 'his', 'you', 'my', 'such', 'each', 'is', 'an', 'half', 'why', 'same', 'did', 'do', 'few', 'can', 'its', 'had', 'what', 'hello', 'while', 'now', 'should', 'too', 'he', 'and', 'are', 'off', 'until', 'themselves', 'the', 'once', 'only', 's', 'don', 'through', 'i', 'they', 'was', 'so', 'by', 'yours', 'yearly', 'herself', 'own', 'both', 'before', 'whom', 'very', 't', 'who', 'a', 'but', 'more', 'at', 'which', 'below', 'here', 'on', {'yearly', 'morning', 'half', 'hello', 'good'}, {'yearly', 'morning', 'half', 'hello', 'good'}, {'yearly', 'morning', 'half', 'hello', 'good'}, {'yearly', 'morning', 'half', 'hello', 'good'}]\n"
          ]
        }
      ]
    },
    {
      "cell_type": "markdown",
      "metadata": {
        "id": "P1rOYC8Is8Cf"
      },
      "source": [
        "## <u>Problem 4</u>\n",
        "\n",
        " Write a Python script to check whether a given key already exists in a dictionary. If it does, drop that key from the dictionary. If it does not, add that key and corresponding value to the dictionary"
      ]
    },
    {
      "cell_type": "code",
      "metadata": {
        "id": "ySeGyCtCs8Cg"
      },
      "source": [
        "# Your dictionary\n",
        "employee_dict = {'Name':'Sanket','Skills':['Python','Machine Learning','Deep Learning'],'Band':6.0,\n",
        "                 'Promotion Year':[2016,2018,2020]}"
      ],
      "execution_count": null,
      "outputs": []
    },
    {
      "cell_type": "code",
      "metadata": {
        "id": "MI7mOHaqs8Cj",
        "colab": {
          "base_uri": "https://localhost:8080/"
        },
        "outputId": "c3dbb3e9-8d7c-44a1-db40-dc7041f7fd4e"
      },
      "source": [
        "# Check if the key 'Employee_ID' is present in the dictionary. Hint : use a boolean variable to store this value\n",
        "\n",
        "l = employee_dict.keys()\n",
        "'Employee_ID' in l\n",
        "# If not present add this key to this dictionary and the corresponding value to be 4503233\n",
        "employee_dict['Employee_ID'] = 4503233\n",
        "print(employee_dict)"
      ],
      "execution_count": null,
      "outputs": [
        {
          "output_type": "stream",
          "name": "stdout",
          "text": [
            "{'Name': 'Sanket', 'Skills': ['Python', 'Machine Learning', 'Deep Learning'], 'Band': 6.0, 'Promotion Year': [2016, 2018, 2020], 'Employee_ID': 4503233}\n"
          ]
        }
      ]
    },
    {
      "cell_type": "code",
      "metadata": {
        "id": "ARPbZfY8s8Co",
        "colab": {
          "base_uri": "https://localhost:8080/"
        },
        "outputId": "58643ec4-a5a7-44e0-c4c4-95bc62ac1c2a"
      },
      "source": [
        "# Check if the key 'Band' is present in the dictionary.\n",
        "'Band' in l\n",
        "\n",
        "# If present, drop this key from the dictionary\n",
        "employee_dict.pop('Band')\n",
        "print(employee_dict)"
      ],
      "execution_count": null,
      "outputs": [
        {
          "output_type": "stream",
          "name": "stdout",
          "text": [
            "{'Name': 'Sanket', 'Skills': ['Python', 'Machine Learning', 'Deep Learning'], 'Promotion Year': [2016, 2018, 2020], 'Employee_ID': 4503233}\n"
          ]
        }
      ]
    },
    {
      "cell_type": "code",
      "metadata": {
        "id": "lUDbbyXmulzh",
        "colab": {
          "base_uri": "https://localhost:8080/"
        },
        "outputId": "84e5259b-f70e-426c-9327-4311641c9a02"
      },
      "source": [
        "# Print the updated dictionary\n",
        "print(employee_dict)"
      ],
      "execution_count": null,
      "outputs": [
        {
          "output_type": "stream",
          "name": "stdout",
          "text": [
            "{'Name': 'Sanket', 'Skills': ['Python', 'Machine Learning', 'Deep Learning'], 'Promotion Year': [2016, 2018, 2020], 'Employee_ID': 4503233}\n"
          ]
        }
      ]
    },
    {
      "cell_type": "code",
      "source": [],
      "metadata": {
        "id": "oqWZpnVb8lip"
      },
      "execution_count": null,
      "outputs": []
    }
  ]
}