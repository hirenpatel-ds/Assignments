{
 "cells": [
  {
   "cell_type": "markdown",
   "metadata": {},
   "source": [
    "# Assignment 3"
   ]
  },
  {
   "cell_type": "markdown",
   "metadata": {},
   "source": [
    "### Given By: Ineuron\n",
    "### Author: Hiren Patel"
   ]
  },
  {
   "cell_type": "markdown",
   "metadata": {},
   "source": [
    "-----------------------------------------------------------------------------------------------------"
   ]
  },
  {
   "cell_type": "markdown",
   "metadata": {},
   "source": [
    "#### Q - 1 Write a Python Program to Check if a Number is Positive, Negative or Zero?"
   ]
  },
  {
   "cell_type": "code",
   "execution_count": 12,
   "metadata": {},
   "outputs": [
    {
     "name": "stdout",
     "output_type": "stream",
     "text": [
      "Enter your number -20\n",
      "Your Number -20 is negative\n"
     ]
    }
   ],
   "source": [
    "n = int(input('Enter your number '))  ## 1\n",
    "\n",
    "if n < 0: ## 2\n",
    "    print('Your Number {} is negative'.format(n))\n",
    "if n > 0: ## 3\n",
    "    print('Your Number {} is positive'.format(n))\n",
    "if n == 0: ## 4\n",
    "    print('Your Number {} is zero'.format(n))\n",
    "    \n",
    "## 1. Taking input from user by using input()\n",
    "## 2. Checking if the number is negative or not then print it\n",
    "## 3. Checking number is positive\n",
    "## 4. checking if the number is 0 then print zero"
   ]
  },
  {
   "cell_type": "markdown",
   "metadata": {},
   "source": [
    "#### Q - 2 Write a Python Program to Check if a Number is Odd or Even?"
   ]
  },
  {
   "cell_type": "code",
   "execution_count": 15,
   "metadata": {},
   "outputs": [
    {
     "name": "stdout",
     "output_type": "stream",
     "text": [
      "Enter Your value 203\n",
      "Your Number 203 Is Odd\n"
     ]
    }
   ],
   "source": [
    "num = int(input('Enter Your value '))\n",
    "\n",
    "if (num%2) == 0: ## 1\n",
    "    print('Your Number {} Is Even'.format(num))\n",
    "else: ## 2\n",
    "    print('Your Number {} Is Odd'.format(num))\n",
    "    \n",
    "## 1. here statement is num % 2 == 00 means we are getting the reminder if we get reminder 0 then it will be even\n",
    "## 2. otherwise, the number is odd"
   ]
  },
  {
   "cell_type": "markdown",
   "metadata": {},
   "source": [
    "#### Q - 3 Write a Python Program to Check Leap Year?"
   ]
  },
  {
   "cell_type": "code",
   "execution_count": 24,
   "metadata": {},
   "outputs": [
    {
     "name": "stdout",
     "output_type": "stream",
     "text": [
      "Year 2021 is not leap\n",
      "Year 2020 is leap\n"
     ]
    }
   ],
   "source": [
    "def l_check(y):\n",
    "    n = (y % 4) == 0 and ((y % 400) == 0 or (y % 100) != 0)\n",
    "    if n == False:\n",
    "        print('Year {} is not leap'.format(y))\n",
    "    else:\n",
    "        print('Year {} is leap'.format(y))\n",
    "l_check(2021)\n",
    "l_check(2020)\n",
    "\n",
    "## leap year will come after every 4 years"
   ]
  },
  {
   "cell_type": "markdown",
   "metadata": {},
   "source": [
    "##### Method - 2"
   ]
  },
  {
   "cell_type": "code",
   "execution_count": 28,
   "metadata": {},
   "outputs": [
    {
     "name": "stdout",
     "output_type": "stream",
     "text": [
      "Enter Year 2021\n",
      "Year False is not leap\n"
     ]
    }
   ],
   "source": [
    "import calendar\n",
    "i =  int(input('Enter Year '))\n",
    "n = calendar.isleap(i)\n",
    "if n == False:\n",
    "        print('Year {} is not leap'.format(n))\n",
    "else:\n",
    "        print('Year {} is leap'.format(n))"
   ]
  },
  {
   "cell_type": "markdown",
   "metadata": {},
   "source": [
    "#### Q - 4 Write a Python Program to Check Prime Number?"
   ]
  },
  {
   "cell_type": "code",
   "execution_count": 33,
   "metadata": {},
   "outputs": [
    {
     "name": "stdout",
     "output_type": "stream",
     "text": [
      "Enter Number to check number is prime or not 10\n",
      "Number 10 is not prime\n"
     ]
    }
   ],
   "source": [
    "p = int(input('Enter Number to check number is prime or not '))\n",
    "for i in range(2,p+1):\n",
    "    if (p % i) == 0: \n",
    "        print('Number {} is not prime'.format(p))\n",
    "        break     ## 1.\n",
    "else:\n",
    "    print('Number {} is prime'.format(p))\n",
    "    \n",
    "## 1. we need to use break here. otherwise it will print not prime multiple time\n",
    "## must note that I have used for else here.\n"
   ]
  },
  {
   "cell_type": "markdown",
   "metadata": {},
   "source": [
    "#### Q - 5 Write a Python Program to Print all Prime Numbers in an Interval of 1-10000?"
   ]
  },
  {
   "cell_type": "code",
   "execution_count": 4,
   "metadata": {},
   "outputs": [
    {
     "name": "stdout",
     "output_type": "stream",
     "text": [
      "Enter max number of interval20\n",
      "Number 2 is prime\n",
      "Number 3 is prime\n",
      "Number 4 is not prime\n",
      "Number 5 is prime\n",
      "Number 6 is not prime\n",
      "Number 7 is prime\n",
      "Number 8 is not prime\n",
      "Number 9 is not prime\n",
      "Number 10 is not prime\n",
      "Number 11 is prime\n",
      "Number 12 is not prime\n",
      "Number 13 is prime\n",
      "Number 14 is not prime\n",
      "Number 15 is not prime\n",
      "Number 16 is not prime\n",
      "Number 17 is prime\n",
      "Number 18 is not prime\n",
      "Number 19 is prime\n",
      "Number 20 is not prime\n"
     ]
    }
   ],
   "source": [
    "n2 = int(input('Enter max number of interval'))\n",
    "#for j in range(1,100001):\n",
    "for j in range(1,n2 + 1):\n",
    "    if j > 1:\n",
    "        for i in range(2,j):\n",
    "            if (j % i) == 0: \n",
    "                print('Number {} is not prime'.format(j))\n",
    "                break     \n",
    "        else:\n",
    "            print('Number {} is prime'.format(j))\n",
    "\n",
    "## Note: I am taking only first 20 numbers to check wether it is prime or not. You are feel free to\n",
    "## use 10000 as max range.\n",
    "## I have to keep smallest number because when I upload it on github it will take more time to load."
   ]
  },
  {
   "cell_type": "code",
   "execution_count": null,
   "metadata": {},
   "outputs": [],
   "source": []
  }
 ],
 "metadata": {
  "kernelspec": {
   "display_name": "Python 3",
   "language": "python",
   "name": "python3"
  },
  "language_info": {
   "codemirror_mode": {
    "name": "ipython",
    "version": 3
   },
   "file_extension": ".py",
   "mimetype": "text/x-python",
   "name": "python",
   "nbconvert_exporter": "python",
   "pygments_lexer": "ipython3",
   "version": "3.8.5"
  }
 },
 "nbformat": 4,
 "nbformat_minor": 4
}
