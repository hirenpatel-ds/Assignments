{
 "cells": [
  {
   "cell_type": "markdown",
   "metadata": {},
   "source": [
    "# Assignment - 5\n",
    "## Given By: Ineuron\n",
    "## Author: Hiren Patel"
   ]
  },
  {
   "cell_type": "markdown",
   "metadata": {},
   "source": [
    "### Q - 1: Write a Python Program to Find LCM?"
   ]
  },
  {
   "cell_type": "code",
   "execution_count": 1,
   "metadata": {},
   "outputs": [],
   "source": [
    "## LCM staands for least common multiple. LCM means smallest non-zero common number which is a multiple of both the numbers."
   ]
  },
  {
   "cell_type": "code",
   "execution_count": 6,
   "metadata": {},
   "outputs": [
    {
     "name": "stdout",
     "output_type": "stream",
     "text": [
      "Enter your first number: 10\n",
      "Enter your second number: 22\n",
      "LCM of 10 and 22 is: 110\n"
     ]
    }
   ],
   "source": [
    "num_1 = int(input('Enter your first number: '))\n",
    "num_2 = int(input('Enter your second number: '))\n",
    "\n",
    "## Find Max number from these two.\n",
    "\n",
    "max_number = max(num_1,num_2)\n",
    "\n",
    "while True:\n",
    "    if (max_number%num_1 == 0 and max_number%num_2 == 0):\n",
    "        break\n",
    "    max_number = max_number + 1\n",
    "print(\"LCM of {} and {} is: {}\".format(num_1,num_2,max_number))"
   ]
  },
  {
   "cell_type": "code",
   "execution_count": 84,
   "metadata": {},
   "outputs": [
    {
     "name": "stdout",
     "output_type": "stream",
     "text": [
      "Enter your first number: 10\n",
      "Enter your second number: 22\n",
      "LCM of 10 and 22 is: 110\n"
     ]
    }
   ],
   "source": [
    "def lcm(a,b):\n",
    "    '''This function returns least common multiple.\n",
    "    LCM means smallest non-zero common number which is a multiple of both the numbers.\n",
    "    \n",
    "    lcm(a,b)\n",
    "    takes two arguments a and b\n",
    "    a = First number\n",
    "    b = Second number\n",
    "    '''\n",
    "    try:\n",
    "        max_number = max(a,b)\n",
    "        while True:\n",
    "            if (max_number%num_1 == 0 and max_number%num_2 == 0):\n",
    "                break\n",
    "            max_number = max_number + 1\n",
    "        print(\"LCM of {} and {} is: {}\".format(a,b,max_number))\n",
    "    except Exception as e:\n",
    "        print('Error is: ',e)\n",
    "\n",
    "a = int(input('Enter your first number: '))\n",
    "b = int(input('Enter your second number: '))\n",
    "lcm(a,b)\n",
    "\n",
    "    "
   ]
  },
  {
   "cell_type": "markdown",
   "metadata": {},
   "source": [
    "-------------------------------------------------------------------------------------------------------------------------------"
   ]
  },
  {
   "cell_type": "markdown",
   "metadata": {},
   "source": [
    "### Q - 2 Write a Python Program to Find HCF?"
   ]
  },
  {
   "cell_type": "code",
   "execution_count": 10,
   "metadata": {},
   "outputs": [],
   "source": [
    "## The highest common factor (HCF) is found by finding all common factors of two numbers and selecting the largest one.\n",
    "## For example, 8 and 12 have common factors of 1, 2 and 4. The highest common factor is 4."
   ]
  },
  {
   "cell_type": "code",
   "execution_count": 85,
   "metadata": {},
   "outputs": [
    {
     "name": "stdout",
     "output_type": "stream",
     "text": [
      "Enter your first number: 8\n",
      "Enter your second number: 12\n",
      "HCF of 8 and 12 is: 4\n"
     ]
    }
   ],
   "source": [
    "def hcf(a,b):\n",
    "    '''\n",
    "    The highest common factor (HCF) is found by finding all common factors of two numbers and selecting the largest one.\n",
    "    For example, 8 and 12 have common factors of 1, 2 and 4. The highest common factor is 4.\n",
    "    hcf(a,b)\n",
    "    takes two arguments a and b\n",
    "    a = First number\n",
    "    b = Second number\n",
    "    '''\n",
    "    try:\n",
    "        mn = min(a,b)\n",
    "        for i in range(1,mn+1):\n",
    "            if (a%i == 0 and b%i == 0):\n",
    "                hc = i\n",
    "            #print(i)\n",
    "        print('HCF of {} and {} is: {}'.format(a,b,hc))\n",
    "    except Exception as e:\n",
    "        print('Error is: ',e)\n",
    "a = int(input('Enter your first number: '))\n",
    "b = int(input('Enter your second number: '))\n",
    "hcf(a,b)\n",
    "\n"
   ]
  },
  {
   "cell_type": "markdown",
   "metadata": {},
   "source": [
    "-------------------------------------------------------------------------------------------------------------------------------"
   ]
  },
  {
   "cell_type": "markdown",
   "metadata": {},
   "source": [
    "### Q -3 Write a Python Program to Convert Decimal to Binary, Octal and Hexadecimal?"
   ]
  },
  {
   "cell_type": "code",
   "execution_count": 27,
   "metadata": {},
   "outputs": [],
   "source": [
    "## Binary:        Binary represents zeros and ones only.\n",
    "## Octal:         Octal represents zero to seven integers\n",
    "## Hexadecimal:   Hexadecimal represents zero to fifteen integers"
   ]
  },
  {
   "cell_type": "code",
   "execution_count": 86,
   "metadata": {},
   "outputs": [
    {
     "name": "stdout",
     "output_type": "stream",
     "text": [
      "Enter number for conversion: 10\n",
      "Enter conversation Number. Type [1] for binary, type [2] for octal and type [3] to hexadecimal: 1\n"
     ]
    },
    {
     "data": {
      "text/plain": [
       "'0b1010'"
      ]
     },
     "execution_count": 86,
     "metadata": {},
     "output_type": "execute_result"
    }
   ],
   "source": [
    "def num_system_conversion(n,convert):\n",
    "    '''\n",
    "    num_system_conversion function help us to convert binary to octal, dec to binary\n",
    "    num_system_conversion(n,convert)\n",
    "    n = any integer number such as decimal\n",
    "    convert = you need to choose one integer from three depends on which operation you want to perform\n",
    "    for example: binary operation\n",
    "    num_system_conversion(10,1)\n",
    "    \n",
    "    '''\n",
    "    try:\n",
    "        if convert == 1:\n",
    "            return bin(n)\n",
    "        if convert == 2:\n",
    "            return oct(n)\n",
    "        if convert == 3:\n",
    "            return hex(n)\n",
    "    except Exception as e:\n",
    "        print('Error is: ',e)\n",
    "n = int(input(\"Enter number for conversion: \"))\n",
    "convert = int(input(\"Enter conversation Number. Type [1] for binary, type [2] for octal and type [3] to hexadecimal: \"))\n",
    "num_system_conversion(n,convert)"
   ]
  },
  {
   "cell_type": "code",
   "execution_count": 48,
   "metadata": {},
   "outputs": [
    {
     "name": "stdout",
     "output_type": "stream",
     "text": [
      "Binary of 12 is: 0b1100\n",
      "Octal of 12 is: 0o14\n",
      "Hexadecimal of 12 is: 0xc\n"
     ]
    }
   ],
   "source": [
    "def con_all(n):\n",
    "    print('Binary of {} is: {}'.format(n, bin(n)))\n",
    "    print('Octal of {} is: {}'.format(n, oct(n)))\n",
    "    print('Hexadecimal of {} is: {}'.format(n, hex(n)))\n",
    "con_all(12)    "
   ]
  },
  {
   "cell_type": "markdown",
   "metadata": {},
   "source": [
    "-------------------------------------------------------------------------------------------------------------------------------"
   ]
  },
  {
   "cell_type": "markdown",
   "metadata": {},
   "source": [
    "### Q - 4 Write a Python Program To Find ASCII value of a character?"
   ]
  },
  {
   "cell_type": "code",
   "execution_count": 59,
   "metadata": {},
   "outputs": [],
   "source": [
    "def find_asc(string):\n",
    "    try:\n",
    "        for i in string:\n",
    "            print('ascii value of {} is: {}'.format(i, ord(i)))\n",
    "    except Exception as e:\n",
    "        print('Error is: ',e)"
   ]
  },
  {
   "cell_type": "code",
   "execution_count": 63,
   "metadata": {},
   "outputs": [
    {
     "name": "stdout",
     "output_type": "stream",
     "text": [
      "ascii value of H is: 72\n",
      "ascii value of e is: 101\n",
      "ascii value of l is: 108\n",
      "ascii value of l is: 108\n",
      "ascii value of o is: 111\n",
      "ascii value of   is: 32\n",
      "ascii value of H is: 72\n",
      "ascii value of i is: 105\n",
      "ascii value of r is: 114\n",
      "ascii value of e is: 101\n",
      "ascii value of n is: 110\n",
      "ascii value of ! is: 33\n",
      "ascii value of   is: 32\n",
      "ascii value of W is: 87\n",
      "ascii value of e is: 101\n",
      "ascii value of l is: 108\n",
      "ascii value of c is: 99\n",
      "ascii value of o is: 111\n",
      "ascii value of m is: 109\n",
      "ascii value of e is: 101\n"
     ]
    }
   ],
   "source": [
    "find_asc('Hello Hiren! Welcome')"
   ]
  },
  {
   "cell_type": "markdown",
   "metadata": {},
   "source": [
    "-------------------------------------------------------------------------------------------------------------------------------"
   ]
  },
  {
   "cell_type": "markdown",
   "metadata": {},
   "source": [
    "### Q - 5 Write a Python Program to Make a Simple Calculator with 4 basic mathematical operations?"
   ]
  },
  {
   "cell_type": "code",
   "execution_count": 101,
   "metadata": {},
   "outputs": [],
   "source": [
    "class cal:\n",
    "    def __init__(self,a,b,operation):\n",
    "        self.a = a\n",
    "        self.b = b\n",
    "        self.operation =  operation\n",
    "    def ch_op(self):\n",
    "        try:\n",
    "            if self.operation == 'sum':\n",
    "                return self.a + self.b\n",
    "        except Exception as e:\n",
    "            print('Error is: ',e)\n",
    "        try:\n",
    "            if self.operation == 'diff':\n",
    "                return self.a - self.b\n",
    "        except Exception as e:\n",
    "            print('Error is: ',e)\n",
    "        try:\n",
    "            if self.operation == 'mul':\n",
    "                return self.a * self.b\n",
    "        except Exception as e:\n",
    "            print('Error is: ',e)\n",
    "        try:\n",
    "            if self.operation == 'div':\n",
    "                return self.a / self.b\n",
    "        except Exception as e:\n",
    "            print('Error is: ',e)\n",
    "        "
   ]
  },
  {
   "cell_type": "code",
   "execution_count": 102,
   "metadata": {},
   "outputs": [],
   "source": [
    "s = cal(15,15,'sum')\n",
    "di = cal(20,10,'diff')\n",
    "m = cal(10,10,'mul')\n",
    "d = cal(7,0,'div')\n",
    "\n"
   ]
  },
  {
   "cell_type": "code",
   "execution_count": 103,
   "metadata": {},
   "outputs": [
    {
     "name": "stdout",
     "output_type": "stream",
     "text": [
      "Error is:  division by zero\n"
     ]
    }
   ],
   "source": [
    "d.ch_op()"
   ]
  },
  {
   "cell_type": "code",
   "execution_count": 104,
   "metadata": {},
   "outputs": [
    {
     "data": {
      "text/plain": [
       "30"
      ]
     },
     "execution_count": 104,
     "metadata": {},
     "output_type": "execute_result"
    }
   ],
   "source": [
    "s.ch_op()\n"
   ]
  },
  {
   "cell_type": "code",
   "execution_count": 105,
   "metadata": {},
   "outputs": [
    {
     "data": {
      "text/plain": [
       "100"
      ]
     },
     "execution_count": 105,
     "metadata": {},
     "output_type": "execute_result"
    }
   ],
   "source": [
    "m.ch_op()"
   ]
  },
  {
   "cell_type": "code",
   "execution_count": 106,
   "metadata": {},
   "outputs": [
    {
     "data": {
      "text/plain": [
       "10"
      ]
     },
     "execution_count": 106,
     "metadata": {},
     "output_type": "execute_result"
    }
   ],
   "source": [
    "di.ch_op()"
   ]
  },
  {
   "cell_type": "markdown",
   "metadata": {},
   "source": [
    "# Thank You!!"
   ]
  },
  {
   "cell_type": "markdown",
   "metadata": {},
   "source": [
    "## This is the end of assignment 5"
   ]
  },
  {
   "cell_type": "code",
   "execution_count": null,
   "metadata": {},
   "outputs": [],
   "source": []
  }
 ],
 "metadata": {
  "kernelspec": {
   "display_name": "Python 3",
   "language": "python",
   "name": "python3"
  },
  "language_info": {
   "codemirror_mode": {
    "name": "ipython",
    "version": 3
   },
   "file_extension": ".py",
   "mimetype": "text/x-python",
   "name": "python",
   "nbconvert_exporter": "python",
   "pygments_lexer": "ipython3",
   "version": "3.8.5"
  }
 },
 "nbformat": 4,
 "nbformat_minor": 4
}
