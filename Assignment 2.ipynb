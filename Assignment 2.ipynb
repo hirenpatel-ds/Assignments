{
 "cells": [
  {
   "cell_type": "markdown",
   "metadata": {},
   "source": [
    "# Assignment 2"
   ]
  },
  {
   "cell_type": "markdown",
   "metadata": {},
   "source": [
    "### Given By: Ineuron\n",
    "### Author: Hiren Patel"
   ]
  },
  {
   "cell_type": "markdown",
   "metadata": {},
   "source": [
    "-----------------------------------------------------------------------------------------------------"
   ]
  },
  {
   "cell_type": "markdown",
   "metadata": {},
   "source": [
    "#### Q - 1 Write a Python program to convert kilometers to miles?"
   ]
  },
  {
   "cell_type": "code",
   "execution_count": 1,
   "metadata": {},
   "outputs": [],
   "source": [
    "## Formula: divide km by 1.609 to convert it into a mile"
   ]
  },
  {
   "cell_type": "code",
   "execution_count": 4,
   "metadata": {},
   "outputs": [
    {
     "name": "stdout",
     "output_type": "stream",
     "text": [
      "Enter Kilometer: 5.56\n",
      "5.56 km is 3.4555624611559974 Miles\n"
     ]
    }
   ],
   "source": [
    "km = float(input('Enter Kilometer: '))  ## Taking input from user\n",
    "m = (km/1.609)                          ## According to the formula (divide km by 1.609)\n",
    "print('{} km is {} Miles'.format(km,m)) ## Printing Result "
   ]
  },
  {
   "cell_type": "markdown",
   "metadata": {},
   "source": [
    "#### Q - 2 Write a Python program to convert Celcius to Fahrenheit?"
   ]
  },
  {
   "cell_type": "code",
   "execution_count": 7,
   "metadata": {},
   "outputs": [],
   "source": [
    "## formula: C * 9/5 + 32"
   ]
  },
  {
   "cell_type": "code",
   "execution_count": 9,
   "metadata": {},
   "outputs": [
    {
     "name": "stdout",
     "output_type": "stream",
     "text": [
      "Enter Temprature In Celcius 5\n",
      "5.0 degree celcius is a 41.0 Fahrenheit\n"
     ]
    }
   ],
   "source": [
    "deg = float(input('Enter Temprature In Celcius ')) ## Taking float value from user\n",
    "f = (deg*9/5) + 32    ## performing formula\n",
    "print('{} degree celcius is a {} Fahrenheit'.format(deg,f)) ## result"
   ]
  },
  {
   "cell_type": "markdown",
   "metadata": {},
   "source": [
    "#### Q - 3 Write a Python program to display calendar?"
   ]
  },
  {
   "cell_type": "code",
   "execution_count": 10,
   "metadata": {},
   "outputs": [],
   "source": [
    "import calendar ## calender is inbuilt module available in python"
   ]
  },
  {
   "cell_type": "code",
   "execution_count": 12,
   "metadata": {},
   "outputs": [
    {
     "name": "stdout",
     "output_type": "stream",
     "text": [
      "Enter Year: 2021\n",
      "Enter Month: 3\n",
      "     March 2021\n",
      "Mo Tu We Th Fr Sa Su\n",
      " 1  2  3  4  5  6  7\n",
      " 8  9 10 11 12 13 14\n",
      "15 16 17 18 19 20 21\n",
      "22 23 24 25 26 27 28\n",
      "29 30 31\n",
      "\n"
     ]
    }
   ],
   "source": [
    "year = int(input('Enter Year: '))  ## Year that we are looking for\n",
    "month = int(input('Enter Month: ')) ## Month that we are looking for\n",
    "print(calendar.month(year,month))## Displaying calender"
   ]
  },
  {
   "cell_type": "markdown",
   "metadata": {},
   "source": [
    "#### Q - 4 Write a Python program to solve quadratic equation?"
   ]
  },
  {
   "cell_type": "code",
   "execution_count": 13,
   "metadata": {},
   "outputs": [],
   "source": [
    "import math"
   ]
  },
  {
   "cell_type": "code",
   "execution_count": 20,
   "metadata": {},
   "outputs": [
    {
     "name": "stdout",
     "output_type": "stream",
     "text": [
      "Enter Coefficient for a 16\n",
      "Enter Coefficient for b 30\n",
      "Enter Coefficient for c 8\n",
      "Roots are real and distinct -0.3219463873877435 and -1.5530536126122565\n"
     ]
    }
   ],
   "source": [
    "a = int(input('Enter Coefficient for a '))\n",
    "b = int(input('Enter Coefficient for b '))\n",
    "c = int(input('Enter Coefficient for c '))\n",
    "\n",
    "r = (b*b-4*a*c)    ## b2 - 4 * ac\n",
    "if r > 0:                                 \n",
    "    root_1 = (-b + math.sqrt(r)) / (2 * a)\n",
    "    root_2 = (-b - math.sqrt(r)) / (2 * a)\n",
    "    print('Roots are real and distinct {} and {}'.format(root_1,root_2))\n",
    "elif r == 0:\n",
    "    root_1 = -b / (2 * a)\n",
    "    print('Roots are real and same {}'.format(root_1))\n",
    "else:\n",
    "    print('No real roots available')\n"
   ]
  },
  {
   "cell_type": "markdown",
   "metadata": {},
   "source": [
    "#### Q - 5 Write a Python program to swap two variables without temp variable?"
   ]
  },
  {
   "cell_type": "code",
   "execution_count": 21,
   "metadata": {},
   "outputs": [
    {
     "name": "stdout",
     "output_type": "stream",
     "text": [
      "20 10\n"
     ]
    }
   ],
   "source": [
    "a = 10\n",
    "b = 20\n",
    "a,b = b,a\n",
    "print(a,b)"
   ]
  },
  {
   "cell_type": "code",
   "execution_count": null,
   "metadata": {},
   "outputs": [],
   "source": []
  }
 ],
 "metadata": {
  "kernelspec": {
   "display_name": "Python 3",
   "language": "python",
   "name": "python3"
  },
  "language_info": {
   "codemirror_mode": {
    "name": "ipython",
    "version": 3
   },
   "file_extension": ".py",
   "mimetype": "text/x-python",
   "name": "python",
   "nbconvert_exporter": "python",
   "pygments_lexer": "ipython3",
   "version": "3.8.5"
  }
 },
 "nbformat": 4,
 "nbformat_minor": 4
}
