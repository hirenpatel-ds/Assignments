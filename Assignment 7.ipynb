{
 "cells": [
  {
   "cell_type": "markdown",
   "id": "a537f034",
   "metadata": {},
   "source": [
    "# Assignment - 7"
   ]
  },
  {
   "cell_type": "markdown",
   "id": "73bb4c5a",
   "metadata": {},
   "source": [
    "## Given By: Inueron\n",
    "## Author: Hiren Patel"
   ]
  },
  {
   "cell_type": "markdown",
   "id": "f66adcc1",
   "metadata": {},
   "source": [
    "### Topics Covered:\n",
    "#### Write a Python Program to find sum of array?\n",
    "#### Write a Python Program to find largest element in an array?\n",
    "#### Write a Python Program for array rotation?\n",
    "#### Write a Python Program to Split the array and add the first part to the end?\n",
    "#### Write a Python Program to check if given array is Monotonic?\n"
   ]
  },
  {
   "cell_type": "markdown",
   "id": "f6d16186",
   "metadata": {},
   "source": [
    "### Q-1 Write a Python Program to find sum of array?"
   ]
  },
  {
   "cell_type": "code",
   "execution_count": 6,
   "id": "748bae0b",
   "metadata": {},
   "outputs": [
    {
     "name": "stdout",
     "output_type": "stream",
     "text": [
      "Total sum of elements is: 92\n"
     ]
    }
   ],
   "source": [
    "try:\n",
    "    def arr_sum(l):                   ## Function Define\n",
    "        r = sum(l)                    ## sum is inbuilt method which is useful for return sum of total elements.\n",
    "        print('Total sum of elements is: {}'.format(r))\n",
    "except Exception as e:\n",
    "    print(\"Error Message is: \",e )\n",
    "    \n",
    "l = [10,52,30]                       ## Passing elements\n",
    "arr_sum(l)                           ## Calling function"
   ]
  },
  {
   "cell_type": "markdown",
   "id": "23572d46",
   "metadata": {},
   "source": [
    "### Q-2 Write a Python Program to find largest element in an array?"
   ]
  },
  {
   "cell_type": "code",
   "execution_count": 10,
   "id": "10b0ed8b",
   "metadata": {},
   "outputs": [
    {
     "name": "stdout",
     "output_type": "stream",
     "text": [
      "Largest number from elements is: 1455454\n"
     ]
    }
   ],
   "source": [
    "try:\n",
    "    def arr_largest(l):                   ## Function Define\n",
    "        '''\n",
    "        arr_largest function will take a list as a input and it will return largest element from that list.\n",
    "        For example: [10,20,30] will return 30 as a output because it is max number.\n",
    "        '''\n",
    "        r = max(l)                        ## max is inbuilt method which is useful for return largest element from total elements.\n",
    "        print('Largest number from elements is: {}'.format(r))\n",
    "except Exception as e:\n",
    "    print(\"Error Message is: \",e )\n",
    "    \n",
    "l = [10,10,20,4,0,5,5,6,20,100,1000,52202,1455454]                       ## Passing elements\n",
    "arr_largest(l)                                                           ## Calling function"
   ]
  },
  {
   "cell_type": "markdown",
   "id": "ea4d1c0b",
   "metadata": {},
   "source": [
    "### Q-3 Write a Python Program for array rotation?"
   ]
  },
  {
   "cell_type": "code",
   "execution_count": 21,
   "id": "a83f75f2",
   "metadata": {},
   "outputs": [
    {
     "name": "stdout",
     "output_type": "stream",
     "text": [
      "Full Rotate elements are: [4, 20, 10, 10]\n"
     ]
    }
   ],
   "source": [
    "try:\n",
    "    def arr_rotataion(l):    ## Function Define\n",
    "        '''\n",
    "        Function arr_rotation will rotate all elements from given array.\n",
    "        For example: if the list l = [1,2,3]\n",
    "        This Function will return [3,2,1]\n",
    "        \n",
    "        '''\n",
    "        r = l[::-1]                         ## Slicing has a very good trick in python. \n",
    "        print('Full Rotate elements are: {}'.format(r))\n",
    "except Exception as e:\n",
    "    print(\"Error Message is: \",e )\n",
    "    \n",
    "l = [10,10,20,4,0,5,5]                       ## Passing elements\n",
    "arr_rotataion(l)                             ## Calling function"
   ]
  },
  {
   "cell_type": "markdown",
   "id": "dff546f3",
   "metadata": {},
   "source": [
    "### Q-4 Write a Python Program to Split the array and add the first part to the end?"
   ]
  },
  {
   "cell_type": "code",
   "execution_count": 48,
   "id": "0a229cff",
   "metadata": {},
   "outputs": [
    {
     "name": "stdout",
     "output_type": "stream",
     "text": [
      "Full Rotate elements are: [20, 4, 0, 5, 10, 10]\n"
     ]
    }
   ],
   "source": [
    "try:\n",
    "    def arr_split(l):    ## Function Define\n",
    "        '''\n",
    "        Function arr_split will split elements from given list and append it to last.\n",
    "        For example: if the list l = [1,2,3]\n",
    "        This Function will return [3,2,1]\n",
    "        \n",
    "        '''\n",
    "        r = l[2:] + l[:2]                   \n",
    "        print('Splits elements are: {}'.format(r))\n",
    "except Exception as e:\n",
    "    print(\"Error Message is: \",e )\n",
    "    \n",
    "l = [10,10,20,4,0,5]                       ## Passing elements\n",
    "arr_split(l)                             ## Calling function\n"
   ]
  },
  {
   "cell_type": "markdown",
   "id": "9a809b47",
   "metadata": {},
   "source": [
    "### Q-5 Write a Python Program to check if given array is Monotonic?"
   ]
  },
  {
   "cell_type": "code",
   "execution_count": 92,
   "id": "aa913fa7",
   "metadata": {},
   "outputs": [
    {
     "name": "stdout",
     "output_type": "stream",
     "text": [
      "enter the size of array: 4\n",
      "Size of array is 4:\n",
      "Enter 1 element: 10\n",
      "Enter 2 element: 20\n",
      "Enter 3 element: 30\n",
      "Enter 4 element: 40\n",
      "True\n"
     ]
    }
   ],
   "source": [
    "no_of_elements = int(input(\"enter the size of array: \"))  ## Accepting Values from user\n",
    "print(\"Size of array is {}:\".format(no_of_elements))     \n",
    "a= []                                                     ## all elements are stored here in array a\n",
    "for i in range(no_of_elements):\n",
    "    val = int(input(\"Enter {} element: \".format(i+1)))\n",
    "    a.append(val)\n",
    "try:    \n",
    "    def monotonic(a):                                         ## Function define\n",
    "\n",
    "        return (all(a[i] <= a[i + 1] for i in range(len(a) - 1)) or    ##Here a[i] is current element and a[i+1] is next element\n",
    "                all(a[i] >= a[i + 1] for i in range(len(a) - 1)))     ## The all() function returns True if all items in an iterable are true, otherwise it returns False.\n",
    "    print(monotonic(a))\n",
    "except Exception as e:\n",
    "    print(\"Error Message is: \",e )\n",
    "\n",
    "    "
   ]
  },
  {
   "cell_type": "markdown",
   "id": "9b90a5d6",
   "metadata": {},
   "source": [
    "# END OF ASSIGNMENT"
   ]
  },
  {
   "cell_type": "markdown",
   "id": "79bf2ba9",
   "metadata": {},
   "source": [
    "-------------------------------------------------------------------------------------------------------------------------------"
   ]
  },
  {
   "cell_type": "markdown",
   "id": "eb3391e9",
   "metadata": {},
   "source": [
    "# BONUS FOR PRACTICE"
   ]
  },
  {
   "cell_type": "code",
   "execution_count": 74,
   "id": "c48737d7",
   "metadata": {},
   "outputs": [
    {
     "name": "stdout",
     "output_type": "stream",
     "text": [
      "enter the size of array: 5\n",
      "Size of array is 5:\n",
      "Enter 1 element: 10\n",
      "Enter 2 element: 20\n",
      "Enter 3 element: 30\n",
      "Enter 4 element: 40\n",
      "Enter 5 element: 50\n",
      "[20, 30, 40, 50, 10]\n"
     ]
    }
   ],
   "source": [
    "no_of_elements = int(input(\"enter the size of array: \"))\n",
    "print(\"Size of array is {}:\".format(no_of_elements))\n",
    "a= []\n",
    "for i in range(no_of_elements):\n",
    "    val = int(input(\"Enter {} element: \".format(i+1)))\n",
    "    a.append(val)\n",
    "k = a[0]\n",
    "for i in range(1,no_of_elements):\n",
    "    a[i-1] = a[i]\n",
    "a[no_of_elements - 1] = k\n",
    "print(a)"
   ]
  },
  {
   "cell_type": "code",
   "execution_count": null,
   "id": "0a1616e7",
   "metadata": {},
   "outputs": [],
   "source": []
  },
  {
   "cell_type": "code",
   "execution_count": null,
   "id": "3211a6b7",
   "metadata": {},
   "outputs": [],
   "source": []
  },
  {
   "cell_type": "code",
   "execution_count": null,
   "id": "1b20196e",
   "metadata": {},
   "outputs": [],
   "source": []
  },
  {
   "cell_type": "code",
   "execution_count": null,
   "id": "d18db47f",
   "metadata": {},
   "outputs": [],
   "source": []
  }
 ],
 "metadata": {
  "kernelspec": {
   "display_name": "Python 3",
   "language": "python",
   "name": "python3"
  },
  "language_info": {
   "codemirror_mode": {
    "name": "ipython",
    "version": 3
   },
   "file_extension": ".py",
   "mimetype": "text/x-python",
   "name": "python",
   "nbconvert_exporter": "python",
   "pygments_lexer": "ipython3",
   "version": "3.8.8"
  }
 },
 "nbformat": 4,
 "nbformat_minor": 5
}
