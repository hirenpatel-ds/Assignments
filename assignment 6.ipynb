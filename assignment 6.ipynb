{
 "cells": [
  {
   "cell_type": "markdown",
   "id": "21443b3d",
   "metadata": {},
   "source": [
    "# Assignment 6\n",
    "### Given By: iNueron\n",
    "### Author: Hiren Patel"
   ]
  },
  {
   "cell_type": "markdown",
   "id": "8c66dc29",
   "metadata": {},
   "source": [
    "-------------------------------------------------------------------------------------------------------------------------------"
   ]
  },
  {
   "cell_type": "markdown",
   "id": "ac6c763e",
   "metadata": {},
   "source": [
    "### Q - 1: Write a Python Program to Display Fibonacci Sequence Using Recursion?"
   ]
  },
  {
   "cell_type": "code",
   "execution_count": 1,
   "id": "b3a2c17b",
   "metadata": {},
   "outputs": [
    {
     "name": "stdout",
     "output_type": "stream",
     "text": [
      "Enter your number: 10\n",
      "You enter 10 as a number\n",
      "0 1 1 2 3 5 8 13 21 34 "
     ]
    }
   ],
   "source": [
    "try:\n",
    "    \n",
    "    n = int(input(\"Enter your number: \"))\n",
    "    print('You enter {} as a number'.format(n))\n",
    "    def fibo(n):\n",
    "        if n == 1:          ## this is our first index we returned it as a 0\n",
    "            return 0\n",
    "        if n == 2:          ## second index as  a one. \n",
    "            return 1\n",
    "        else:               ## this will give us sum of recent two n's. that's why we need to subtract it.\n",
    "            return (fibo(n-1) + fibo(n-2))  ##(n-1) will be last n's value and (n-2) is second last n's value\n",
    "\n",
    "    for i in range(1,n+1):           ##for loop for increment numbers\n",
    "        print(fibo(i),end = \" \" )    ## this fibo funcion calling multiple times until the given number finished\n",
    "except Exception as e:\n",
    "    print('Error!!', e)"
   ]
  },
  {
   "cell_type": "markdown",
   "id": "aab1793b",
   "metadata": {},
   "source": [
    "### Q - 2: Write a Python Program to Find Factorial of Number Using Recursion?"
   ]
  },
  {
   "cell_type": "code",
   "execution_count": 2,
   "id": "fa588f9e",
   "metadata": {},
   "outputs": [
    {
     "name": "stdout",
     "output_type": "stream",
     "text": [
      "Enter your number: 5\n",
      "5 4 3 2 1 0 Multiplication of factorial number is 120\n"
     ]
    }
   ],
   "source": [
    "try:\n",
    "    def fact(n):\n",
    "        print(n, end = ' ')\n",
    "        if n == 0:         ## 0 factorial is 1\n",
    "            return 1\n",
    "        return n * fact(n-1)\n",
    "\n",
    "    n = fact(int(input('Enter your number: ')))   ## taking number from user and pass as argument of fact function\n",
    "    print('Multiplication of factorial number is {}'.format(n))\n",
    "except Exception as e:\n",
    "    print('Error!!', e)"
   ]
  },
  {
   "cell_type": "markdown",
   "id": "b123d51b",
   "metadata": {},
   "source": [
    "### Q - 3 Write a Python Program to calculate your Body Mass Index?"
   ]
  },
  {
   "cell_type": "code",
   "execution_count": 3,
   "id": "6efe841b",
   "metadata": {},
   "outputs": [],
   "source": [
    "## BMI = weight / height**2"
   ]
  },
  {
   "cell_type": "code",
   "execution_count": 27,
   "id": "a486c972",
   "metadata": {},
   "outputs": [
    {
     "name": "stdout",
     "output_type": "stream",
     "text": [
      "Enter your current weight(kg) 62\n",
      "Enter your current height(cm)170.688\n",
      "21.280690237117437\n",
      "Your bmi is 21.280690237117437 and based on this you have normal weight status\n"
     ]
    }
   ],
   "source": [
    "try:\n",
    "    weight = float(input('Enter your current weight(kg) '))\n",
    "    height = float(input('Enter your current height(cm)'))\n",
    "    \n",
    "    bmi = weight / (height/100) ** 2\n",
    "    print(bmi)\n",
    "    if (bmi <= 18.4):\n",
    "        print('Your bmi is {} and based on this you have underweight status'.format(bmi))\n",
    "    if (bmi >= 18.5 and bmi <= 24.9):\n",
    "        print('Your bmi is {} and based on this you have normal weight status'.format(bmi))\n",
    "    if (bmi >= 25.0 and bmi <= 29.9):\n",
    "        print('Your bmi is {} and based on this you have overweight weight status'.format(bmi))\n",
    "    if (bmi >= 30.0):\n",
    "        print('Your bmi is {} and based on this you have obese weight status'.format(bmi))\n",
    "        \n",
    "except Exception as e:\n",
    "    print('Error!!', e)"
   ]
  },
  {
   "cell_type": "markdown",
   "id": "57c72f31",
   "metadata": {},
   "source": [
    "### Q - 4 Write a Python Program to calculate the natural logarithm of any number?"
   ]
  },
  {
   "cell_type": "code",
   "execution_count": 1,
   "id": "51a4a833",
   "metadata": {},
   "outputs": [],
   "source": [
    "import math"
   ]
  },
  {
   "cell_type": "code",
   "execution_count": 15,
   "id": "8840fa31",
   "metadata": {},
   "outputs": [
    {
     "name": "stdout",
     "output_type": "stream",
     "text": [
      "Enter a Number: 15\n",
      "2.70805020110221\n"
     ]
    }
   ],
   "source": [
    "try:\n",
    "    def nat_log(n):\n",
    "        r = math.log(n)\n",
    "        print(r)\n",
    "    n = int(input('Enter a Number: '))\n",
    "    nat_log(n)\n",
    "except Exception as e:\n",
    "    print('Error msg: ', e)"
   ]
  },
  {
   "cell_type": "code",
   "execution_count": null,
   "id": "83cc1023",
   "metadata": {},
   "outputs": [],
   "source": []
  },
  {
   "cell_type": "markdown",
   "id": "cab04b29",
   "metadata": {},
   "source": [
    "### Q - 5 Write a Python Program for cube sum of first n natural numbers?"
   ]
  },
  {
   "cell_type": "code",
   "execution_count": 30,
   "id": "da41baea",
   "metadata": {},
   "outputs": [
    {
     "name": "stdout",
     "output_type": "stream",
     "text": [
      "Enter a Number:2\n",
      "the sum of first 2 natural number is 9: \n"
     ]
    }
   ],
   "source": [
    "try:\n",
    "    def cube_sum(n):\n",
    "        s = 0\n",
    "        for i in range(1, n+1):\n",
    "            s = s + i * i * i\n",
    "        print('the sum of first {} natural number is {}: '.format(n, s))\n",
    "except Exception as e:\n",
    "    print('Error is ', e)\n",
    "    \n",
    "n = int(input('Enter a Number:'))\n",
    "cube_sum(n)"
   ]
  },
  {
   "cell_type": "code",
   "execution_count": null,
   "id": "7fa1beac",
   "metadata": {},
   "outputs": [],
   "source": []
  }
 ],
 "metadata": {
  "kernelspec": {
   "display_name": "Python 3",
   "language": "python",
   "name": "python3"
  },
  "language_info": {
   "codemirror_mode": {
    "name": "ipython",
    "version": 3
   },
   "file_extension": ".py",
   "mimetype": "text/x-python",
   "name": "python",
   "nbconvert_exporter": "python",
   "pygments_lexer": "ipython3",
   "version": "3.8.8"
  }
 },
 "nbformat": 4,
 "nbformat_minor": 5
}
